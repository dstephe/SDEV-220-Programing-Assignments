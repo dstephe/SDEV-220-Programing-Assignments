{
 "cells": [
  {
   "cell_type": "code",
   "execution_count": 48,
   "id": "bd518183",
   "metadata": {},
   "outputs": [
    {
     "name": "stdout",
     "output_type": "stream",
     "text": [
      "Open 9-5 daily\n"
     ]
    }
   ],
   "source": [
    "#11.1\n",
    "import zoo\n",
    "\n",
    "zoo.hours()\n",
    "\n",
    "#print(hours)"
   ]
  },
  {
   "cell_type": "code",
   "execution_count": 1,
   "id": "3f7c06ed",
   "metadata": {},
   "outputs": [
    {
     "name": "stdout",
     "output_type": "stream",
     "text": [
      "Open 9-5 daily\n"
     ]
    }
   ],
   "source": [
    "#11.2\n",
    "import zoo as menagerie\n",
    "\n",
    "menagerie.hours()"
   ]
  },
  {
   "cell_type": "code",
   "execution_count": 1,
   "id": "afed80f5",
   "metadata": {},
   "outputs": [
    {
     "name": "stdout",
     "output_type": "stream",
     "text": [
      "[('Harry Potter',), ('Percy Jack',), ('Winie The Pooh',)]\n"
     ]
    }
   ],
   "source": [
    "#16.4\n",
    "import sqlite3\n",
    "conn = sqlite3.connect('books.db')\n",
    "curs=conn.cursor()\n",
    "curs.execute('''CREATE TABLE books\n",
    "    (title VARCHAR(20) PRIMARY KEY,\n",
    "    author VARCHAR(20),\n",
    "    year INT)''')\n",
    "\n",
    "ins = 'INSERT INTO books (title, author, year) VALUES(?, ?, ?)'\n",
    "curs.execute(ins, ('Harry Potter', 'JK', 2000))\n",
    "curs.execute(ins, ('Winie The Pooh', 'Tiger', 1995))\n",
    "curs.execute(ins, ('Percy Jack', 'Zeus', 2005))\n",
    "curs.execute('SELECT title FROM books')\n",
    "rows = curs.fetchall()\n",
    "print(rows)"
   ]
  },
  {
   "cell_type": "code",
   "execution_count": 5,
   "id": "233b7290",
   "metadata": {},
   "outputs": [],
   "source": [
    "#16.8\n",
    "import sqlalchemy as db\n",
    "from sqlalchemy.ext.automap import automap_base\n",
    "from sqlalchemy.orm import sessionmaker\n",
    "from sqlalchemy import create_engine, select, inspect, text\n",
    "\n",
    "\n",
    "\n",
    "engine = db.create_engine('sqlite:///books.db')\n",
    "conn=engine.connect()\n",
    "\n",
    "results=conn.execute('SELECT title FROM books')\n",
    "\n",
    "\n",
    "for rows in results:\n",
    "    print(rows)"
   ]
  },
  {
   "cell_type": "code",
   "execution_count": null,
   "id": "29ac4796",
   "metadata": {},
   "outputs": [],
   "source": []
  },
  {
   "cell_type": "code",
   "execution_count": null,
   "id": "ae3f3ef9",
   "metadata": {},
   "outputs": [],
   "source": []
  }
 ],
 "metadata": {
  "kernelspec": {
   "display_name": "Python 3 (ipykernel)",
   "language": "python",
   "name": "python3"
  },
  "language_info": {
   "codemirror_mode": {
    "name": "ipython",
    "version": 3
   },
   "file_extension": ".py",
   "mimetype": "text/x-python",
   "name": "python",
   "nbconvert_exporter": "python",
   "pygments_lexer": "ipython3",
   "version": "3.9.13"
  }
 },
 "nbformat": 4,
 "nbformat_minor": 5
}
