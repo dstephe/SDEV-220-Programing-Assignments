{
 "cells": [
  {
   "cell_type": "markdown",
   "id": "313fdf57",
   "metadata": {},
   "source": [
    "13.2"
   ]
  },
  {
   "cell_type": "code",
   "execution_count": 5,
   "id": "4f928cde",
   "metadata": {},
   "outputs": [],
   "source": [
    "file=open('today.txt')\n",
    "today_string=file.read()"
   ]
  },
  {
   "cell_type": "markdown",
   "id": "a8a5490c",
   "metadata": {},
   "source": [
    "13.3"
   ]
  },
  {
   "cell_type": "code",
   "execution_count": 6,
   "id": "44582266",
   "metadata": {},
   "outputs": [
    {
     "data": {
      "text/plain": [
       "time.struct_time(tm_year=2023, tm_mon=2, tm_mday=27, tm_hour=0, tm_min=0, tm_sec=0, tm_wday=0, tm_yday=58, tm_isdst=-1)"
      ]
     },
     "execution_count": 6,
     "metadata": {},
     "output_type": "execute_result"
    }
   ],
   "source": [
    "import time\n",
    "\n",
    "fmt = \"%Y/%m/%d\"\n",
    "\n",
    "time.strptime(today_string,fmt)"
   ]
  },
  {
   "cell_type": "markdown",
   "id": "90e046a9",
   "metadata": {},
   "source": [
    "15.1"
   ]
  },
  {
   "cell_type": "code",
   "execution_count": 48,
   "id": "7ffcfd1d",
   "metadata": {},
   "outputs": [],
   "source": [
    "import multiprocessing\n",
    "import os\n",
    "import random\n",
    "\n",
    "i=1\n",
    "\n",
    "def current_time(i):\n",
    "    random.seed(i)\n",
    "    num = random.randrange(0,1)\n",
    "    time.sleep(num)\n",
    "    current=time.time()\n",
    "    print(time.ctime(current))\n",
    "\n",
    "if __name__ == \"__main__\":\n",
    "    for n in range(3):\n",
    "        p = multiprocessing.Process(target=current_time,\n",
    "          args=(i,))\n",
    "        p.start()\n",
    "        p.terminate()\n",
    "        i+=1\n"
   ]
  },
  {
   "cell_type": "code",
   "execution_count": null,
   "id": "7a8f9d38",
   "metadata": {},
   "outputs": [],
   "source": []
  }
 ],
 "metadata": {
  "kernelspec": {
   "display_name": "Python 3 (ipykernel)",
   "language": "python",
   "name": "python3"
  },
  "language_info": {
   "codemirror_mode": {
    "name": "ipython",
    "version": 3
   },
   "file_extension": ".py",
   "mimetype": "text/x-python",
   "name": "python",
   "nbconvert_exporter": "python",
   "pygments_lexer": "ipython3",
   "version": "3.9.13"
  }
 },
 "nbformat": 4,
 "nbformat_minor": 5
}
