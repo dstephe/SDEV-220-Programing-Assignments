{
 "cells": [
  {
   "cell_type": "code",
   "execution_count": 79,
   "id": "0d11cc74",
   "metadata": {},
   "outputs": [
    {
     "name": "stdout",
     "output_type": "stream",
     "text": [
      "Too Low\n"
     ]
    }
   ],
   "source": [
    "#4.1\n",
    "import random\n",
    "\n",
    "secret=random.randint(1,10)\n",
    "guess=random.randint(1,10)\n",
    "\n",
    "if guess < secret:\n",
    "    print(\"Too Low\")\n",
    "elif guess > secret:\n",
    "    print(\"Too High\")\n",
    "else:\n",
    "    print(\"Just Right\")"
   ]
  },
  {
   "cell_type": "code",
   "execution_count": 80,
   "id": "f48ab3a4",
   "metadata": {},
   "outputs": [
    {
     "name": "stdout",
     "output_type": "stream",
     "text": [
      "Its a cherry\n"
     ]
    }
   ],
   "source": [
    "#4.2\n",
    "small = True\n",
    "green = False\n",
    "\n",
    "if small:\n",
    "    if green:\n",
    "        print(\"Its a pea\")\n",
    "    else:\n",
    "        print(\"Its a cherry\")\n",
    "else:\n",
    "    if green:\n",
    "        print(\"Its a watermelon\")\n",
    "    else:\n",
    "        print(\"pumpkin\")"
   ]
  },
  {
   "cell_type": "code",
   "execution_count": 81,
   "id": "37c2d0f2",
   "metadata": {},
   "outputs": [
    {
     "name": "stdout",
     "output_type": "stream",
     "text": [
      "0\n",
      "1\n",
      "2\n",
      "3\n"
     ]
    }
   ],
   "source": [
    "#6.1\n",
    "list = [3, 2, 1, 0]\n",
    "for number in range(len(list)):\n",
    "    print(number)"
   ]
  },
  {
   "cell_type": "code",
   "execution_count": 82,
   "id": "070cd94f",
   "metadata": {},
   "outputs": [
    {
     "name": "stdout",
     "output_type": "stream",
     "text": [
      "Too Low\n",
      "Too Low\n",
      "Too Low\n",
      "Too Low\n",
      "Too Low\n",
      "Too Low\n",
      "You found it!\n"
     ]
    }
   ],
   "source": [
    "#6.2\n",
    "guess_me = 7\n",
    "number = 1\n",
    "\n",
    "while True:\n",
    "    if number < guess_me:\n",
    "        print(\"Too Low\")\n",
    "    elif number == guess_me:\n",
    "        print(\"You found it!\")\n",
    "        break\n",
    "    else:\n",
    "        print(\"Opps\")\n",
    "        break\n",
    "    number += 1"
   ]
  },
  {
   "cell_type": "code",
   "execution_count": 83,
   "id": "28a11e5c",
   "metadata": {},
   "outputs": [
    {
     "name": "stdout",
     "output_type": "stream",
     "text": [
      "Too Low\n",
      "Too Low\n",
      "Too Low\n",
      "Too Low\n",
      "Too Low\n",
      "You found it!\n"
     ]
    }
   ],
   "source": [
    "#6.3\n",
    "guess_me = 5\n",
    "\n",
    "for number in range(10):\n",
    "    if number < guess_me:\n",
    "        print(\"Too Low\")\n",
    "    elif number == guess_me:\n",
    "        print(\"You found it!\")\n",
    "        break\n",
    "    else:\n",
    "        print(\"Opps\")\n",
    "        break"
   ]
  }
 ],
 "metadata": {
  "kernelspec": {
   "display_name": "Python 3 (ipykernel)",
   "language": "python",
   "name": "python3"
  },
  "language_info": {
   "codemirror_mode": {
    "name": "ipython",
    "version": 3
   },
   "file_extension": ".py",
   "mimetype": "text/x-python",
   "name": "python",
   "nbconvert_exporter": "python",
   "pygments_lexer": "ipython3",
   "version": "3.9.13"
  }
 },
 "nbformat": 4,
 "nbformat_minor": 5
}
