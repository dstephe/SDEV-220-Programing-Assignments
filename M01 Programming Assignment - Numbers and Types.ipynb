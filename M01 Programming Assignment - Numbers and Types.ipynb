{
 "cells": [
  {
   "cell_type": "code",
   "execution_count": 1,
   "id": "23788ced",
   "metadata": {},
   "outputs": [
    {
     "data": {
      "text/plain": [
       "3600"
      ]
     },
     "execution_count": 1,
     "metadata": {},
     "output_type": "execute_result"
    }
   ],
   "source": [
    "60*60"
   ]
  },
  {
   "cell_type": "markdown",
   "id": "128d501f",
   "metadata": {},
   "source": [
    " 3.1: There are 3600 seconds in a hour"
   ]
  },
  {
   "cell_type": "code",
   "execution_count": 3,
   "id": "2f01ee8b",
   "metadata": {},
   "outputs": [],
   "source": [
    "seconds_per_hour=60*60"
   ]
  },
  {
   "cell_type": "code",
   "execution_count": 4,
   "id": "4ce47689",
   "metadata": {},
   "outputs": [
    {
     "data": {
      "text/plain": [
       "86400"
      ]
     },
     "execution_count": 4,
     "metadata": {},
     "output_type": "execute_result"
    }
   ],
   "source": [
    "seconds_per_hour*24"
   ]
  },
  {
   "cell_type": "markdown",
   "id": "066caa32",
   "metadata": {},
   "source": [
    "3.3: There is 86,400 seconds in a day"
   ]
  },
  {
   "cell_type": "code",
   "execution_count": 5,
   "id": "9a08b7f5",
   "metadata": {},
   "outputs": [],
   "source": [
    "seconds_per_day=seconds_per_hour*24"
   ]
  },
  {
   "cell_type": "code",
   "execution_count": 6,
   "id": "9a5ccf4e",
   "metadata": {},
   "outputs": [
    {
     "data": {
      "text/plain": [
       "24.0"
      ]
     },
     "execution_count": 6,
     "metadata": {},
     "output_type": "execute_result"
    }
   ],
   "source": [
    "seconds_per_day/seconds_per_hour"
   ]
  },
  {
   "cell_type": "code",
   "execution_count": 7,
   "id": "5779d8af",
   "metadata": {},
   "outputs": [
    {
     "data": {
      "text/plain": [
       "24"
      ]
     },
     "execution_count": 7,
     "metadata": {},
     "output_type": "execute_result"
    }
   ],
   "source": [
    "seconds_per_day//seconds_per_hour"
   ]
  },
  {
   "cell_type": "markdown",
   "id": "41e2566e",
   "metadata": {},
   "source": [
    "3.6: This number agreed with the floating point value"
   ]
  }
 ],
 "metadata": {
  "kernelspec": {
   "display_name": "Python 3 (ipykernel)",
   "language": "python",
   "name": "python3"
  },
  "language_info": {
   "codemirror_mode": {
    "name": "ipython",
    "version": 3
   },
   "file_extension": ".py",
   "mimetype": "text/x-python",
   "name": "python",
   "nbconvert_exporter": "python",
   "pygments_lexer": "ipython3",
   "version": "3.9.13"
  }
 },
 "nbformat": 4,
 "nbformat_minor": 5
}
